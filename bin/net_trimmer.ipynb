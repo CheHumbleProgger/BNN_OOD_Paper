{
 "cells": [
  {
   "cell_type": "code",
   "execution_count": 1,
   "metadata": {
    "collapsed": true,
    "pycharm": {
     "name": "#%%\n"
    }
   },
   "outputs": [],
   "source": [
    "import torch\n",
    "from NeuroNets import NeuroNetUtils, EEGNetV4, ShallowFBCSPNet"
   ]
  },
  {
   "cell_type": "code",
   "execution_count": 13,
   "outputs": [],
   "source": [
    "net_params = {'in_chans': 22, 'n_classes': 2, 'input_window_samples': 1125}\n",
    "net = NeuroNetUtils.NewEEGNet(net_params)\n",
    "net1 = NeuroNetUtils.NewShallowFBCSPNet(net_params)"
   ],
   "metadata": {
    "collapsed": false,
    "pycharm": {
     "name": "#%%\n"
    }
   }
  },
  {
   "cell_type": "code",
   "execution_count": 14,
   "outputs": [
    {
     "name": "stdout",
     "output_type": "stream",
     "text": [
      "NewEEGNet(\n",
      "  (ensuredims): Ensure4d()\n",
      "  (dimshuffle): Expression(expression=_transpose_to_b_1_c_0) \n",
      "  (conv_temporal): Conv2d(1, 8, kernel_size=(1, 64), stride=(1, 1), padding=(0, 32), bias=False)\n",
      "  (bnorm_temporal): BatchNorm2d(8, eps=0.001, momentum=0.01, affine=True, track_running_stats=True)\n",
      "  (conv_spatial): Conv2dWithConstraint(8, 16, kernel_size=(22, 1), stride=(1, 1), groups=8, bias=False)\n",
      "  (bnorm_1): BatchNorm2d(16, eps=0.001, momentum=0.01, affine=True, track_running_stats=True)\n",
      "  (elu_1): Expression(expression=elu) \n",
      "  (pool_1): AvgPool2d(kernel_size=(1, 4), stride=(1, 4), padding=0)\n",
      "  (drop_1): Dropout(p=0.25, inplace=False)\n",
      "  (conv_separable_depth): Conv2d(16, 16, kernel_size=(1, 16), stride=(1, 1), padding=(0, 8), groups=16, bias=False)\n",
      "  (conv_separable_point): Conv2d(16, 16, kernel_size=(1, 1), stride=(1, 1), bias=False)\n",
      "  (bnorm_2): BatchNorm2d(16, eps=0.001, momentum=0.01, affine=True, track_running_stats=True)\n",
      "  (elu_2): Expression(expression=elu) \n",
      "  (pool_2): AvgPool2d(kernel_size=(1, 8), stride=(1, 8), padding=0)\n",
      "  (drop_2): Dropout(p=0.25, inplace=False)\n",
      "  (conv_classifier): Conv2d(16, 2, kernel_size=(1, 35), stride=(1, 1))\n",
      "  (softmax): LogSoftmax(dim=1)\n",
      "  (permute_back): Expression(expression=_transpose_1_0) \n",
      "  (squeeze): Expression(expression=squeeze_final_output) \n",
      ")\n"
     ]
    }
   ],
   "source": [
    "print(net)"
   ],
   "metadata": {
    "collapsed": false,
    "pycharm": {
     "name": "#%%\n"
    }
   }
  },
  {
   "cell_type": "code",
   "execution_count": 4,
   "outputs": [
    {
     "name": "stdout",
     "output_type": "stream",
     "text": [
      "Ensure4d()\n",
      "Expression(expression=_transpose_to_b_1_c_0) \n",
      "Conv2d(1, 8, kernel_size=(1, 64), stride=(1, 1), padding=(0, 32), bias=False)\n",
      "BatchNorm2d(8, eps=0.001, momentum=0.01, affine=True, track_running_stats=True)\n",
      "Conv2dWithConstraint(8, 16, kernel_size=(22, 1), stride=(1, 1), groups=8, bias=False)\n",
      "BatchNorm2d(16, eps=0.001, momentum=0.01, affine=True, track_running_stats=True)\n",
      "Expression(expression=elu) \n",
      "AvgPool2d(kernel_size=(1, 4), stride=(1, 4), padding=0)\n",
      "Dropout(p=0.25, inplace=False)\n",
      "Conv2d(16, 16, kernel_size=(1, 16), stride=(1, 1), padding=(0, 8), groups=16, bias=False)\n",
      "Conv2d(16, 16, kernel_size=(1, 1), stride=(1, 1), bias=False)\n",
      "BatchNorm2d(16, eps=0.001, momentum=0.01, affine=True, track_running_stats=True)\n",
      "Expression(expression=elu) \n",
      "AvgPool2d(kernel_size=(1, 8), stride=(1, 8), padding=0)\n",
      "Dropout(p=0.25, inplace=False)\n",
      "Conv2d(16, 2, kernel_size=(1, 35), stride=(1, 1))\n",
      "LogSoftmax(dim=1)\n",
      "Expression(expression=_transpose_1_0) \n",
      "Expression(expression=squeeze_final_output) \n"
     ]
    }
   ],
   "source": [
    "for layer in net:\n",
    "    print(layer)"
   ],
   "metadata": {
    "collapsed": false,
    "pycharm": {
     "name": "#%%\n"
    }
   }
  },
  {
   "cell_type": "code",
   "execution_count": 5,
   "outputs": [
    {
     "name": "stdout",
     "output_type": "stream",
     "text": [
      "19\n"
     ]
    }
   ],
   "source": [
    "print(len(net))"
   ],
   "metadata": {
    "collapsed": false,
    "pycharm": {
     "name": "#%%\n"
    }
   }
  },
  {
   "cell_type": "code",
   "execution_count": 6,
   "outputs": [
    {
     "name": "stdout",
     "output_type": "stream",
     "text": [
      "Sequential(\n",
      "  (0): Ensure4d()\n",
      "  (1): Expression(expression=_transpose_to_b_1_c_0) \n",
      "  (2): Conv2d(1, 8, kernel_size=(1, 64), stride=(1, 1), padding=(0, 32), bias=False)\n",
      "  (3): BatchNorm2d(8, eps=0.001, momentum=0.01, affine=True, track_running_stats=True)\n",
      "  (4): Conv2dWithConstraint(8, 16, kernel_size=(22, 1), stride=(1, 1), groups=8, bias=False)\n",
      "  (5): BatchNorm2d(16, eps=0.001, momentum=0.01, affine=True, track_running_stats=True)\n",
      "  (6): Expression(expression=elu) \n",
      "  (7): AvgPool2d(kernel_size=(1, 4), stride=(1, 4), padding=0)\n",
      "  (8): Dropout(p=0.25, inplace=False)\n",
      "  (9): Conv2d(16, 16, kernel_size=(1, 16), stride=(1, 1), padding=(0, 8), groups=16, bias=False)\n",
      "  (10): Conv2d(16, 16, kernel_size=(1, 1), stride=(1, 1), bias=False)\n",
      "  (11): BatchNorm2d(16, eps=0.001, momentum=0.01, affine=True, track_running_stats=True)\n",
      "  (12): Expression(expression=elu) \n",
      "  (13): AvgPool2d(kernel_size=(1, 8), stride=(1, 8), padding=0)\n",
      "  (14): Dropout(p=0.25, inplace=False)\n",
      "  (15): Conv2d(16, 2, kernel_size=(1, 35), stride=(1, 1))\n",
      ")\n"
     ]
    }
   ],
   "source": [
    "net_trimmed = torch.nn.Sequential(*[net[i] for i in range(len(net)-3)])\n",
    "print(net_trimmed)"
   ],
   "metadata": {
    "collapsed": false,
    "pycharm": {
     "name": "#%%\n"
    }
   }
  },
  {
   "cell_type": "code",
   "execution_count": 8,
   "outputs": [
    {
     "name": "stdout",
     "output_type": "stream",
     "text": [
      "Sequential(\n",
      "  (0): Expression(expression=_transpose_1_0) \n",
      "  (1): Expression(expression=squeeze_final_output) \n",
      ")\n"
     ]
    }
   ],
   "source": [
    "net_tail = torch.nn.Sequential(*[net[i] for i in range(len(net)-2, len(net))])\n",
    "print(net_tail)"
   ],
   "metadata": {
    "collapsed": false,
    "pycharm": {
     "name": "#%%\n"
    }
   }
  },
  {
   "cell_type": "code",
   "execution_count": 11,
   "outputs": [
    {
     "ename": "TypeError",
     "evalue": "module name should be a string. Got braindecode.models.modules.Expression",
     "output_type": "error",
     "traceback": [
      "\u001B[1;31m---------------------------------------------------------------------------\u001B[0m",
      "\u001B[1;31mTypeError\u001B[0m                                 Traceback (most recent call last)",
      "\u001B[1;32m~\\AppData\\Local\\Temp/ipykernel_16312/3624870049.py\u001B[0m in \u001B[0;36m<module>\u001B[1;34m\u001B[0m\n\u001B[1;32m----> 1\u001B[1;33m \u001B[0mnet_clipped\u001B[0m \u001B[1;33m=\u001B[0m \u001B[0mnet_trimmed\u001B[0m\u001B[1;33m.\u001B[0m\u001B[0madd_module\u001B[0m\u001B[1;33m(\u001B[0m\u001B[1;33m*\u001B[0m\u001B[1;33m[\u001B[0m\u001B[0mnet_tail\u001B[0m\u001B[1;33m[\u001B[0m\u001B[0mi\u001B[0m\u001B[1;33m]\u001B[0m \u001B[1;32mfor\u001B[0m \u001B[0mi\u001B[0m \u001B[1;32min\u001B[0m \u001B[0mrange\u001B[0m\u001B[1;33m(\u001B[0m\u001B[0mlen\u001B[0m\u001B[1;33m(\u001B[0m\u001B[0mnet_tail\u001B[0m\u001B[1;33m)\u001B[0m\u001B[1;33m)\u001B[0m\u001B[1;33m]\u001B[0m\u001B[1;33m)\u001B[0m\u001B[1;33m\u001B[0m\u001B[1;33m\u001B[0m\u001B[0m\n\u001B[0m\u001B[0;32m      2\u001B[0m \u001B[0mprint\u001B[0m\u001B[1;33m(\u001B[0m\u001B[0mnet_clipped\u001B[0m\u001B[1;33m)\u001B[0m\u001B[1;33m\u001B[0m\u001B[1;33m\u001B[0m\u001B[0m\n",
      "\u001B[1;32mE:\\anaconda\\envs\\braindecode\\lib\\site-packages\\torch\\nn\\modules\\module.py\u001B[0m in \u001B[0;36madd_module\u001B[1;34m(self, name, module)\u001B[0m\n\u001B[0;32m    378\u001B[0m                 torch.typename(module)))\n\u001B[0;32m    379\u001B[0m         \u001B[1;32melif\u001B[0m \u001B[1;32mnot\u001B[0m \u001B[0misinstance\u001B[0m\u001B[1;33m(\u001B[0m\u001B[0mname\u001B[0m\u001B[1;33m,\u001B[0m \u001B[0mtorch\u001B[0m\u001B[1;33m.\u001B[0m\u001B[0m_six\u001B[0m\u001B[1;33m.\u001B[0m\u001B[0mstring_classes\u001B[0m\u001B[1;33m)\u001B[0m\u001B[1;33m:\u001B[0m\u001B[1;33m\u001B[0m\u001B[1;33m\u001B[0m\u001B[0m\n\u001B[1;32m--> 380\u001B[1;33m             raise TypeError(\"module name should be a string. Got {}\".format(\n\u001B[0m\u001B[0;32m    381\u001B[0m                 torch.typename(name)))\n\u001B[0;32m    382\u001B[0m         \u001B[1;32melif\u001B[0m \u001B[0mhasattr\u001B[0m\u001B[1;33m(\u001B[0m\u001B[0mself\u001B[0m\u001B[1;33m,\u001B[0m \u001B[0mname\u001B[0m\u001B[1;33m)\u001B[0m \u001B[1;32mand\u001B[0m \u001B[0mname\u001B[0m \u001B[1;32mnot\u001B[0m \u001B[1;32min\u001B[0m \u001B[0mself\u001B[0m\u001B[1;33m.\u001B[0m\u001B[0m_modules\u001B[0m\u001B[1;33m:\u001B[0m\u001B[1;33m\u001B[0m\u001B[1;33m\u001B[0m\u001B[0m\n",
      "\u001B[1;31mTypeError\u001B[0m: module name should be a string. Got braindecode.models.modules.Expression"
     ]
    }
   ],
   "source": [
    "net_clipped = net_trimmed.add_module(*[net_tail[i] for i in range(len(net_tail))])\n",
    "print(net_clipped)"
   ],
   "metadata": {
    "collapsed": false,
    "pycharm": {
     "name": "#%%\n"
    }
   }
  },
  {
   "cell_type": "code",
   "execution_count": 15,
   "outputs": [
    {
     "name": "stdout",
     "output_type": "stream",
     "text": [
      "Sequential(\n",
      "  (0): Ensure4d()\n",
      "  (1): Expression(expression=_transpose_to_b_1_c_0) \n",
      "  (2): Conv2d(1, 8, kernel_size=(1, 64), stride=(1, 1), padding=(0, 32), bias=False)\n",
      "  (3): BatchNorm2d(8, eps=0.001, momentum=0.01, affine=True, track_running_stats=True)\n",
      "  (4): Conv2dWithConstraint(8, 16, kernel_size=(22, 1), stride=(1, 1), groups=8, bias=False)\n",
      "  (5): BatchNorm2d(16, eps=0.001, momentum=0.01, affine=True, track_running_stats=True)\n",
      "  (6): Expression(expression=elu) \n",
      "  (7): AvgPool2d(kernel_size=(1, 4), stride=(1, 4), padding=0)\n",
      "  (8): Dropout(p=0.25, inplace=False)\n",
      "  (9): Conv2d(16, 16, kernel_size=(1, 16), stride=(1, 1), padding=(0, 8), groups=16, bias=False)\n",
      "  (10): Conv2d(16, 16, kernel_size=(1, 1), stride=(1, 1), bias=False)\n",
      "  (11): BatchNorm2d(16, eps=0.001, momentum=0.01, affine=True, track_running_stats=True)\n",
      "  (12): Expression(expression=elu) \n",
      "  (13): AvgPool2d(kernel_size=(1, 8), stride=(1, 8), padding=0)\n",
      "  (14): Dropout(p=0.25, inplace=False)\n",
      "  (15): Conv2d(16, 2, kernel_size=(1, 35), stride=(1, 1))\n",
      "  (16): Expression(expression=_transpose_1_0) \n",
      "  (17): Expression(expression=squeeze_final_output) \n",
      ")\n"
     ]
    }
   ],
   "source": [
    "net_clipped = torch.nn.Sequential(*[net[i] for i in range(len(net)) if i!=len(net)-3])\n",
    "print(net_clipped)"
   ],
   "metadata": {
    "collapsed": false,
    "pycharm": {
     "name": "#%%\n"
    }
   }
  },
  {
   "cell_type": "markdown",
   "source": [
    "<H1> Now the same with ShallowFBCSPNet </H1>"
   ],
   "metadata": {
    "collapsed": false,
    "pycharm": {
     "name": "#%% md\n"
    }
   }
  },
  {
   "cell_type": "code",
   "execution_count": 34,
   "outputs": [
    {
     "name": "stdout",
     "output_type": "stream",
     "text": [
      "Ensure4d()\n",
      "Expression(expression=transpose_time_to_spat) \n",
      "Conv2d(1, 40, kernel_size=(25, 1), stride=(1, 1))\n",
      "Conv2d(40, 40, kernel_size=(1, 22), stride=(1, 1), bias=False)\n",
      "BatchNorm2d(40, eps=1e-05, momentum=0.1, affine=True, track_running_stats=True)\n",
      "Expression(expression=square) \n",
      "AvgPool2d(kernel_size=(75, 1), stride=(15, 1), padding=0)\n",
      "Expression(expression=safe_log) \n",
      "Dropout(p=0.5, inplace=False)\n",
      "Conv2d(40, 2, kernel_size=(30, 1), stride=(1, 1))\n",
      "LogSoftmax(dim=1)\n",
      "Expression(expression=squeeze_final_output) \n"
     ]
    }
   ],
   "source": [
    "for layer in net1:\n",
    "    print(layer)"
   ],
   "metadata": {
    "collapsed": false,
    "pycharm": {
     "name": "#%%\n"
    }
   }
  },
  {
   "cell_type": "code",
   "execution_count": 40,
   "outputs": [
    {
     "name": "stdout",
     "output_type": "stream",
     "text": [
      "Sequential(\n",
      "  (0): Ensure4d()\n",
      "  (1): Expression(expression=transpose_time_to_spat) \n",
      "  (2): Conv2d(1, 40, kernel_size=(25, 1), stride=(1, 1))\n",
      "  (3): Conv2d(40, 40, kernel_size=(1, 22), stride=(1, 1), bias=False)\n",
      "  (4): BatchNorm2d(40, eps=1e-05, momentum=0.1, affine=True, track_running_stats=True)\n",
      "  (5): Expression(expression=square) \n",
      "  (6): AvgPool2d(kernel_size=(75, 1), stride=(15, 1), padding=0)\n",
      "  (7): Expression(expression=safe_log) \n",
      "  (8): Dropout(p=0.5, inplace=False)\n",
      "  (9): Conv2d(40, 2, kernel_size=(30, 1), stride=(1, 1))\n",
      ")\n"
     ]
    }
   ],
   "source": [
    "net1_trimmed = torch.nn.Sequential(*[net1[i] for i in range(len(net1)-2)])\n",
    "print(net1_trimmed)"
   ],
   "metadata": {
    "collapsed": false,
    "pycharm": {
     "name": "#%%\n"
    }
   }
  },
  {
   "cell_type": "code",
   "execution_count": 41,
   "outputs": [
    {
     "name": "stdout",
     "output_type": "stream",
     "text": [
      "Sequential(\n",
      "  (0): LogSoftmax(dim=1)\n",
      "  (1): Expression(expression=squeeze_final_output) \n",
      ")\n"
     ]
    }
   ],
   "source": [
    "net1_tail = torch.nn.Sequential(*[net1[i] for i in range(len(net1)-2, len(net1))])\n",
    "print(net1_tail)"
   ],
   "metadata": {
    "collapsed": false,
    "pycharm": {
     "name": "#%%\n"
    }
   }
  }
 ],
 "metadata": {
  "kernelspec": {
   "display_name": "Python 3",
   "language": "python",
   "name": "python3"
  },
  "language_info": {
   "codemirror_mode": {
    "name": "ipython",
    "version": 2
   },
   "file_extension": ".py",
   "mimetype": "text/x-python",
   "name": "python",
   "nbconvert_exporter": "python",
   "pygments_lexer": "ipython2",
   "version": "2.7.6"
  }
 },
 "nbformat": 4,
 "nbformat_minor": 0
}